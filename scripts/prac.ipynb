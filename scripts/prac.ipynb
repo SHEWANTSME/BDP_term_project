{
 "cells": [
  {
   "cell_type": "code",
   "execution_count": 199,
   "metadata": {},
   "outputs": [],
   "source": [
    "# kakaoarena 데이터셋을 공식 홈페이지에서 local로 다운받은 후 read\n",
    "import pandas as pd\n",
    "# json to csv\n",
    "df = pd.read_json (r'C:\\Users\\qhdms\\Documents\\카카오톡 받은 파일\\Prac_web_crawl\\song_meta.json')\n",
    "df.to_csv (r'C:\\Users\\qhdms\\Documents\\카카오톡 받은 파일\\Prac_web_crawl\\song_meta.csv', index = None)\n",
    "\n",
    "song_meta = pd.read_csv('song_meta.csv')\n",
    "\n",
    "# 지워도 되는 애들 -> issue_date, album_id, song_gn_dtl_gnr_basket(이거 세부 장르) \n",
    "song_meta = song_meta.drop(['issue_date' , 'album_id' , 'artist_id_basket' ,'song_gn_dtl_gnr_basket'], axis = 1)\n",
    "\n",
    "#print(type(bbb))\n",
    "\n",
    "#print(bbb['song_gn_gnr_basket'][14])\n",
    "#print(bbb['song_gn_gnr_basket'][1].lstrip('[\\'').rstrip('\\']'))\n",
    "#print(bbb['song_gn_gnr_basket'][14].replace('\\'','').replace('[','').replace(']','').replace(',',''))\n",
    "\n",
    "#song_genrere = pd.read_csv('result.csv')\n",
    "#xx = [song_genrere.iloc[0].index]\n",
    "#print(xx[0][2])\n",
    "#print(xx[0].size)\n",
    "#yy = [song_genrere.iloc[0]]\n",
    "#print(xx[0][1])\n",
    "#print(yy[0][1])\n",
    "#print(len(xx[0]))\n",
    "#dic={}\n",
    "#for i in range(len(xx[0])):\n",
    "#    dic[xx[0][i]] = yy[0][i]\n",
    "\n",
    "#print(dic.values())"
   ]
  },
  {
   "cell_type": "code",
   "execution_count": 239,
   "metadata": {},
   "outputs": [
    {
     "data": {
      "text/plain": [
       "707989"
      ]
     },
     "execution_count": 239,
     "metadata": {},
     "output_type": "execute_result"
    }
   ],
   "source": [
    "len(song_meta)"
   ]
  },
  {
   "cell_type": "code",
   "execution_count": 234,
   "metadata": {},
   "outputs": [
    {
     "name": "stdout",
     "output_type": "stream",
     "text": [
      "dict_values(['발라드', '세부장르전체', \"'80\", \"'90\", \"'00\", \"'10-\", '댄스', '세부장르전체', \"'80\", \"'90\", \"'00\", \"'10-\", '랩/힙합', '세부장르전체', '랩 스타일', '보컬 스타일', '언더그라운드 힙합', '시대별', 'R&B/Soul', '세부장르전체', '어반', 'R&B', '인디음악', '세부장르전체', '포크', '록', '일렉', '힙합', '발라드', \"'90\", \"'00\", \"'10-\", '록/메탈', '세부장르전체', \"'70\", \"'80\", \"'90\", \"'00\", \"'10-\", '성인가요', '세부장르전체', '신세대트로트', '전설의트로트', '뽕짝트로트', '트로트메들리', \"트로트'60-'70\", \"트로트'80-'90\", \"트로트'00-\", \"성인가요'80-'90\", \"성인가요'00-\", '포크/블루스', '세부장르전체', \"'60-'70\", \"'80-'90\", \"'00\", \"'10-\", 'POP', '세부장르전체', '얼터너티브팝', '올디스', '월드팝', \"'60-'70\", \"'80-'90\", \"'00\", \"'10-\", '록/메탈', '세부장르전체', '모던록', '얼터너티브록', '프로그레시브/아트록', '하드록', '헤비메탈', '뉴메탈/하드코어', '포스트록', \"'60\", \"'70\", \"'80\", \"'90\", \"'00\", \"'10-\", '일렉트로니카', '세부장르전체', '일렉트로니카', '하우스', '클럽뮤직', '일렉트로닉팝', \"'80\", \"'90\", \"'00\", \"'10-\", '랩/힙합', '세부장르전체', '팝랩', '얼터너티브힙합', '갱스터/하드코어랩', 'East&West', \"'80\", \"'90\", \"'00\", \"'10-\", 'R&B/Soul', '세부장르전체', '컨템포러리 R&B', '소울', '어반', \"'60-'70\", \"'80-'90\", \"'00\", \"'10-\", '포크/블루스/컨트리', '세부장르전체', '포크', '블루스', '컨트리', \"'60-'70\", \"'80-'90\", \"'00-\", 'OST', '세부장르전체', '국내영화', '국외영화', '국내드라마', '국외드라마', '애니메이션/게임', '국내뮤지컬', '국외뮤지컬', '애니메이션/웹툰', '게임', '클래식', '세부장르전체', '관현악', '교향곡', '실내악', '협주곡', '독주곡', '오페라', '크로스오버', '현대음악', '성악/합창곡', '발레/무용', '지휘/연주자', '컴필레이션', '교향/관현악', '오페라/성악', '재즈', '세부장르전체', '보컬재즈', '애시드/퓨전/팝', 'Bop', '보사노바', 'J-Jazz', '라틴재즈', '빅밴드/스윙', '악기별', '컴필레이션', '뉴에이지', '세부장르전체', '이지리스닝', 'J-Newage', '기능성음악', '기타', '피아노', '컴필레이션', 'J-POP', '세부장르전체', 'POP', '록', '일렉트로니카', '랩/힙합', 'R&B/Soul', '시부야케이', '뉴에이지', '재즈', '힙합/R&B', \"'80-'90\", \"'00-'10\", '월드뮤직', '세부장르전체', '샹송/프렌치팝', '칸초네/이탈리안팝', '중국음악', '켈틱/아이리시', '브라질', '탱고/플라멩코', '라틴', '레게', '파두', 'CCM', '세부장르전체', '국내CCM', '국외CCM', '워십', '찬송가', '성가', '연주곡', '어린이', '성경', 'NEW', '어린이/태교', '유아동요', '창작동요', '영어동요', '영어동요', '영어동요', '영어동화', '만화', '자장가', '태교동화', '태교', '릴렉싱&힐링', '명작동화', '교과서동요', '전래동요', '창작동화', '어린이클래식', '종교음악', '가톨릭', '불교', '국악', '세부장르전체', '크로스오버', '국악가요', '민요', '판소리/단가', '풍물/사물놀이', '아이돌', '세부장르전체', '남자 아이돌', '여자 아이돌', '랩/힙합', '발라드', '댄스', '일렉트로니카', '세부장르전체', '댄스 스타일', '팝 스타일', '시대별', 'EDM', '세부장르전체', '하우스', '클럽', 'DJ', '뮤직테라피', '세부장르전체', 'ASMR/자연', '힐링/명상/요가', '집중력', '숙면유도', '반려동물', '뮤지컬', '세부장르전체', '국내뮤지컬', '국외뮤지컬', '크리스마스'])\n"
     ]
    }
   ],
   "source": [
    "song_genre = pd.read_csv('result.csv')\n",
    "song_genre\n",
    "xx = [song_genre.iloc[0].index]\n",
    "yy = [song_genre.iloc[0]]\n",
    "dic = {}\n",
    "for i in range(len(xx[0])):\n",
    "    dic[xx[0][i]] = yy[0][i]\n",
    "print(dic.values())"
   ]
  },
  {
   "cell_type": "code",
   "execution_count": 235,
   "metadata": {},
   "outputs": [
    {
     "name": "stdout",
     "output_type": "stream",
     "text": [
      "dict_keys(['GN0100', 'GN0101', 'GN0102', 'GN0103', 'GN0104', 'GN0105', 'GN0200', 'GN0201', 'GN0202', 'GN0203', 'GN0204', 'GN0205', 'GN0300', 'GN0301', 'GN0302', 'GN0303', 'GN0304', 'GN0305', 'GN0400', 'GN0401', 'GN0402', 'GN0403', 'GN0500', 'GN0501', 'GN0502', 'GN0503', 'GN0504', 'GN0505', 'GN0506', 'GN0507', 'GN0508', 'GN0509', 'GN0600', 'GN0601', 'GN0602', 'GN0603', 'GN0604', 'GN0605', 'GN0606', 'GN0700', 'GN0701', 'GN0702', 'GN0703', 'GN0704', 'GN0705', 'GN0706', 'GN0707', 'GN0708', 'GN0709', 'GN0710', 'GN0800', 'GN0801', 'GN0802', 'GN0803', 'GN0804', 'GN0805', 'GN0900', 'GN0901', 'GN0902', 'GN0903', 'GN0904', 'GN0905', 'GN0906', 'GN0907', 'GN0908', 'GN1000', 'GN1001', 'GN1002', 'GN1003', 'GN1004', 'GN1005', 'GN1006', 'GN1007', 'GN1008', 'GN1009', 'GN1010', 'GN1011', 'GN1012', 'GN1013', 'GN1014', 'GN1100', 'GN1101', 'GN1102', 'GN1103', 'GN1104', 'GN1105', 'GN1106', 'GN1107', 'GN1108', 'GN1109', 'GN1200', 'GN1201', 'GN1202', 'GN1203', 'GN1204', 'GN1205', 'GN1206', 'GN1207', 'GN1208', 'GN1209', 'GN1300', 'GN1301', 'GN1302', 'GN1303', 'GN1304', 'GN1305', 'GN1306', 'GN1307', 'GN1308', 'GN1400', 'GN1401', 'GN1402', 'GN1403', 'GN1404', 'GN1405', 'GN1406', 'GN1407', 'GN1500', 'GN1501', 'GN1502', 'GN1503', 'GN1504', 'GN1505', 'GN1506', 'GN1507', 'GN1508', 'GN1509', 'GN1510', 'GN1600', 'GN1601', 'GN1602', 'GN1603', 'GN1604', 'GN1605', 'GN1606', 'GN1607', 'GN1608', 'GN1609', 'GN1610', 'GN1611', 'GN1612', 'GN1613', 'GN1614', 'GN1615', 'GN1700', 'GN1701', 'GN1702', 'GN1703', 'GN1704', 'GN1705', 'GN1706', 'GN1707', 'GN1708', 'GN1709', 'GN1710', 'GN1800', 'GN1801', 'GN1802', 'GN1803', 'GN1804', 'GN1805', 'GN1806', 'GN1807', 'GN1900', 'GN1901', 'GN1902', 'GN1903', 'GN1904', 'GN1905', 'GN1906', 'GN1907', 'GN1908', 'GN1909', 'GN1910', 'GN1911', 'GN1912', 'GN2000', 'GN2001', 'GN2002', 'GN2003', 'GN2004', 'GN2005', 'GN2006', 'GN2007', 'GN2008', 'GN2009', 'GN2010', 'GN2100', 'GN2101', 'GN2102', 'GN2103', 'GN2104', 'GN2105', 'GN2106', 'GN2107', 'GN2108', 'GN2109', 'GN2110', 'GN2200', 'GN2201', 'GN2202', 'GN2203', 'GN2204', 'GN2205', 'GN2206', 'GN2207', 'GN2208', 'GN2209', 'GN2210', 'GN2211', 'GN2212', 'GN2213', 'GN2214', 'GN2215', 'GN2216', 'GN2300', 'GN2301', 'GN2302', 'GN2400', 'GN2401', 'GN2402', 'GN2403', 'GN2404', 'GN2405', 'GN2406', 'GN2500', 'GN2501', 'GN2502', 'GN2503', 'GN2504', 'GN2505', 'GN2506', 'GN2600', 'GN2601', 'GN2602', 'GN2603', 'GN2604', 'GN2700', 'GN2701', 'GN2702', 'GN2703', 'GN2704', 'GN2800', 'GN2801', 'GN2802', 'GN2803', 'GN2804', 'GN2805', 'GN2806', 'GN2900', 'GN2901', 'GN2902', 'GN2903', 'GN3000'])\n"
     ]
    }
   ],
   "source": [
    "print(dic.keys())"
   ]
  },
  {
   "cell_type": "code",
   "execution_count": 247,
   "metadata": {},
   "outputs": [
    {
     "ename": "KeyError",
     "evalue": "'POP'",
     "output_type": "error",
     "traceback": [
      "\u001b[1;31m---------------------------------------------------------------------------\u001b[0m",
      "\u001b[1;31mKeyError\u001b[0m                                  Traceback (most recent call last)",
      "\u001b[1;32m~\\AppData\\Local\\Temp/ipykernel_19032/2040087562.py\u001b[0m in \u001b[0;36m<module>\u001b[1;34m\u001b[0m\n\u001b[0;32m      1\u001b[0m \u001b[1;31m#print(song_meta['song_gn_gnr_basket'][0].replace('\\'','').replace('[','').replace(']','').replace(',','').split())\u001b[0m\u001b[1;33m\u001b[0m\u001b[1;33m\u001b[0m\u001b[0m\n\u001b[0;32m      2\u001b[0m \u001b[1;31m#dic['GN0100']\u001b[0m\u001b[1;33m\u001b[0m\u001b[1;33m\u001b[0m\u001b[0m\n\u001b[1;32m----> 3\u001b[1;33m \u001b[0mdic\u001b[0m\u001b[1;33m[\u001b[0m\u001b[1;34m'POP'\u001b[0m\u001b[1;33m]\u001b[0m\u001b[1;33m\u001b[0m\u001b[1;33m\u001b[0m\u001b[0m\n\u001b[0m",
      "\u001b[1;31mKeyError\u001b[0m: 'POP'"
     ]
    }
   ],
   "source": [
    "#print(song_meta['song_gn_gnr_basket'][0].replace('\\'','').replace('[','').replace(']','').replace(',','').split())\n",
    "#dic['GN0100']\n",
    "dic['POP']"
   ]
  },
  {
   "cell_type": "code",
   "execution_count": 248,
   "metadata": {},
   "outputs": [
    {
     "name": "stderr",
     "output_type": "stream",
     "text": [
      "C:\\Users\\qhdms\\AppData\\Local\\Temp/ipykernel_19032/1575560422.py:6: SettingWithCopyWarning: \n",
      "A value is trying to be set on a copy of a slice from a DataFrame\n",
      "\n",
      "See the caveats in the documentation: https://pandas.pydata.org/pandas-docs/stable/user_guide/indexing.html#returning-a-view-versus-a-copy\n",
      "  song_meta['song_gn_gnr_basket'][i] = j\n"
     ]
    },
    {
     "ename": "KeyboardInterrupt",
     "evalue": "",
     "output_type": "error",
     "traceback": [
      "\u001b[1;31m---------------------------------------------------------------------------\u001b[0m",
      "\u001b[1;31mKeyboardInterrupt\u001b[0m                         Traceback (most recent call last)",
      "\u001b[1;32m~\\AppData\\Local\\Temp/ipykernel_19032/1575560422.py\u001b[0m in \u001b[0;36m<module>\u001b[1;34m\u001b[0m\n\u001b[0;32m      4\u001b[0m     \u001b[1;32mfor\u001b[0m \u001b[0mj\u001b[0m \u001b[1;32min\u001b[0m \u001b[0mq\u001b[0m\u001b[1;33m:\u001b[0m\u001b[1;33m\u001b[0m\u001b[1;33m\u001b[0m\u001b[0m\n\u001b[0;32m      5\u001b[0m         \u001b[1;31m#print(j)\u001b[0m\u001b[1;33m\u001b[0m\u001b[1;33m\u001b[0m\u001b[0m\n\u001b[1;32m----> 6\u001b[1;33m         \u001b[0msong_meta\u001b[0m\u001b[1;33m[\u001b[0m\u001b[1;34m'song_gn_gnr_basket'\u001b[0m\u001b[1;33m]\u001b[0m\u001b[1;33m[\u001b[0m\u001b[0mi\u001b[0m\u001b[1;33m]\u001b[0m \u001b[1;33m=\u001b[0m \u001b[0mj\u001b[0m\u001b[1;33m\u001b[0m\u001b[1;33m\u001b[0m\u001b[0m\n\u001b[0m",
      "\u001b[1;32mc:\\ProgramData\\Anaconda3\\lib\\site-packages\\pandas\\core\\series.py\u001b[0m in \u001b[0;36m__setitem__\u001b[1;34m(self, key, value)\u001b[0m\n\u001b[0;32m   1054\u001b[0m     \u001b[1;32mdef\u001b[0m \u001b[0m__setitem__\u001b[0m\u001b[1;33m(\u001b[0m\u001b[0mself\u001b[0m\u001b[1;33m,\u001b[0m \u001b[0mkey\u001b[0m\u001b[1;33m,\u001b[0m \u001b[0mvalue\u001b[0m\u001b[1;33m)\u001b[0m \u001b[1;33m->\u001b[0m \u001b[1;32mNone\u001b[0m\u001b[1;33m:\u001b[0m\u001b[1;33m\u001b[0m\u001b[1;33m\u001b[0m\u001b[0m\n\u001b[0;32m   1055\u001b[0m         \u001b[0mkey\u001b[0m \u001b[1;33m=\u001b[0m \u001b[0mcom\u001b[0m\u001b[1;33m.\u001b[0m\u001b[0mapply_if_callable\u001b[0m\u001b[1;33m(\u001b[0m\u001b[0mkey\u001b[0m\u001b[1;33m,\u001b[0m \u001b[0mself\u001b[0m\u001b[1;33m)\u001b[0m\u001b[1;33m\u001b[0m\u001b[1;33m\u001b[0m\u001b[0m\n\u001b[1;32m-> 1056\u001b[1;33m         \u001b[0mcacher_needs_updating\u001b[0m \u001b[1;33m=\u001b[0m \u001b[0mself\u001b[0m\u001b[1;33m.\u001b[0m\u001b[0m_check_is_chained_assignment_possible\u001b[0m\u001b[1;33m(\u001b[0m\u001b[1;33m)\u001b[0m\u001b[1;33m\u001b[0m\u001b[1;33m\u001b[0m\u001b[0m\n\u001b[0m\u001b[0;32m   1057\u001b[0m \u001b[1;33m\u001b[0m\u001b[0m\n\u001b[0;32m   1058\u001b[0m         \u001b[1;32mif\u001b[0m \u001b[0mkey\u001b[0m \u001b[1;32mis\u001b[0m \u001b[0mEllipsis\u001b[0m\u001b[1;33m:\u001b[0m\u001b[1;33m\u001b[0m\u001b[1;33m\u001b[0m\u001b[0m\n",
      "\u001b[1;32mc:\\ProgramData\\Anaconda3\\lib\\site-packages\\pandas\\core\\series.py\u001b[0m in \u001b[0;36m_check_is_chained_assignment_possible\u001b[1;34m(self)\u001b[0m\n\u001b[0;32m   1209\u001b[0m         \u001b[1;32mif\u001b[0m \u001b[0mself\u001b[0m\u001b[1;33m.\u001b[0m\u001b[0m_is_view\u001b[0m \u001b[1;32mand\u001b[0m \u001b[0mself\u001b[0m\u001b[1;33m.\u001b[0m\u001b[0m_is_cached\u001b[0m\u001b[1;33m:\u001b[0m\u001b[1;33m\u001b[0m\u001b[1;33m\u001b[0m\u001b[0m\n\u001b[0;32m   1210\u001b[0m             \u001b[0mref\u001b[0m \u001b[1;33m=\u001b[0m \u001b[0mself\u001b[0m\u001b[1;33m.\u001b[0m\u001b[0m_get_cacher\u001b[0m\u001b[1;33m(\u001b[0m\u001b[1;33m)\u001b[0m\u001b[1;33m\u001b[0m\u001b[1;33m\u001b[0m\u001b[0m\n\u001b[1;32m-> 1211\u001b[1;33m             \u001b[1;32mif\u001b[0m \u001b[0mref\u001b[0m \u001b[1;32mis\u001b[0m \u001b[1;32mnot\u001b[0m \u001b[1;32mNone\u001b[0m \u001b[1;32mand\u001b[0m \u001b[0mref\u001b[0m\u001b[1;33m.\u001b[0m\u001b[0m_is_mixed_type\u001b[0m\u001b[1;33m:\u001b[0m\u001b[1;33m\u001b[0m\u001b[1;33m\u001b[0m\u001b[0m\n\u001b[0m\u001b[0;32m   1212\u001b[0m                 \u001b[0mself\u001b[0m\u001b[1;33m.\u001b[0m\u001b[0m_check_setitem_copy\u001b[0m\u001b[1;33m(\u001b[0m\u001b[0mstacklevel\u001b[0m\u001b[1;33m=\u001b[0m\u001b[1;36m4\u001b[0m\u001b[1;33m,\u001b[0m \u001b[0mt\u001b[0m\u001b[1;33m=\u001b[0m\u001b[1;34m\"referent\"\u001b[0m\u001b[1;33m,\u001b[0m \u001b[0mforce\u001b[0m\u001b[1;33m=\u001b[0m\u001b[1;32mTrue\u001b[0m\u001b[1;33m)\u001b[0m\u001b[1;33m\u001b[0m\u001b[1;33m\u001b[0m\u001b[0m\n\u001b[0;32m   1213\u001b[0m             \u001b[1;32mreturn\u001b[0m \u001b[1;32mTrue\u001b[0m\u001b[1;33m\u001b[0m\u001b[1;33m\u001b[0m\u001b[0m\n",
      "\u001b[1;32mc:\\ProgramData\\Anaconda3\\lib\\site-packages\\pandas\\core\\generic.py\u001b[0m in \u001b[0;36m_is_mixed_type\u001b[1;34m(self)\u001b[0m\n\u001b[0;32m   5590\u001b[0m             \u001b[1;32mreturn\u001b[0m \u001b[1;32mTrue\u001b[0m\u001b[1;33m\u001b[0m\u001b[1;33m\u001b[0m\u001b[0m\n\u001b[0;32m   5591\u001b[0m \u001b[1;33m\u001b[0m\u001b[0m\n\u001b[1;32m-> 5592\u001b[1;33m         \u001b[1;32mreturn\u001b[0m \u001b[0mself\u001b[0m\u001b[1;33m.\u001b[0m\u001b[0mdtypes\u001b[0m\u001b[1;33m.\u001b[0m\u001b[0mnunique\u001b[0m\u001b[1;33m(\u001b[0m\u001b[1;33m)\u001b[0m \u001b[1;33m>\u001b[0m \u001b[1;36m1\u001b[0m\u001b[1;33m\u001b[0m\u001b[1;33m\u001b[0m\u001b[0m\n\u001b[0m\u001b[0;32m   5593\u001b[0m \u001b[1;33m\u001b[0m\u001b[0m\n\u001b[0;32m   5594\u001b[0m     \u001b[1;33m@\u001b[0m\u001b[0mfinal\u001b[0m\u001b[1;33m\u001b[0m\u001b[1;33m\u001b[0m\u001b[0m\n",
      "\u001b[1;32mc:\\ProgramData\\Anaconda3\\lib\\site-packages\\pandas\\core\\base.py\u001b[0m in \u001b[0;36mnunique\u001b[1;34m(self, dropna)\u001b[0m\n\u001b[0;32m   1017\u001b[0m         \u001b[0muniqs\u001b[0m \u001b[1;33m=\u001b[0m \u001b[0mself\u001b[0m\u001b[1;33m.\u001b[0m\u001b[0munique\u001b[0m\u001b[1;33m(\u001b[0m\u001b[1;33m)\u001b[0m\u001b[1;33m\u001b[0m\u001b[1;33m\u001b[0m\u001b[0m\n\u001b[0;32m   1018\u001b[0m         \u001b[1;32mif\u001b[0m \u001b[0mdropna\u001b[0m\u001b[1;33m:\u001b[0m\u001b[1;33m\u001b[0m\u001b[1;33m\u001b[0m\u001b[0m\n\u001b[1;32m-> 1019\u001b[1;33m             \u001b[0muniqs\u001b[0m \u001b[1;33m=\u001b[0m \u001b[0mremove_na_arraylike\u001b[0m\u001b[1;33m(\u001b[0m\u001b[0muniqs\u001b[0m\u001b[1;33m)\u001b[0m\u001b[1;33m\u001b[0m\u001b[1;33m\u001b[0m\u001b[0m\n\u001b[0m\u001b[0;32m   1020\u001b[0m         \u001b[1;32mreturn\u001b[0m \u001b[0mlen\u001b[0m\u001b[1;33m(\u001b[0m\u001b[0muniqs\u001b[0m\u001b[1;33m)\u001b[0m\u001b[1;33m\u001b[0m\u001b[1;33m\u001b[0m\u001b[0m\n\u001b[0;32m   1021\u001b[0m \u001b[1;33m\u001b[0m\u001b[0m\n",
      "\u001b[1;32mc:\\ProgramData\\Anaconda3\\lib\\site-packages\\pandas\\core\\dtypes\\missing.py\u001b[0m in \u001b[0;36mremove_na_arraylike\u001b[1;34m(arr)\u001b[0m\n\u001b[0;32m    598\u001b[0m     \u001b[0mReturn\u001b[0m \u001b[0marray\u001b[0m\u001b[1;33m-\u001b[0m\u001b[0mlike\u001b[0m \u001b[0mcontaining\u001b[0m \u001b[0monly\u001b[0m \u001b[0mtrue\u001b[0m\u001b[1;33m/\u001b[0m\u001b[0mnon\u001b[0m\u001b[1;33m-\u001b[0m\u001b[0mNaN\u001b[0m \u001b[0mvalues\u001b[0m\u001b[1;33m,\u001b[0m \u001b[0mpossibly\u001b[0m \u001b[0mempty\u001b[0m\u001b[1;33m.\u001b[0m\u001b[1;33m\u001b[0m\u001b[1;33m\u001b[0m\u001b[0m\n\u001b[0;32m    599\u001b[0m     \"\"\"\n\u001b[1;32m--> 600\u001b[1;33m     \u001b[1;32mif\u001b[0m \u001b[0mis_extension_array_dtype\u001b[0m\u001b[1;33m(\u001b[0m\u001b[0marr\u001b[0m\u001b[1;33m)\u001b[0m\u001b[1;33m:\u001b[0m\u001b[1;33m\u001b[0m\u001b[1;33m\u001b[0m\u001b[0m\n\u001b[0m\u001b[0;32m    601\u001b[0m         \u001b[1;32mreturn\u001b[0m \u001b[0marr\u001b[0m\u001b[1;33m[\u001b[0m\u001b[0mnotna\u001b[0m\u001b[1;33m(\u001b[0m\u001b[0marr\u001b[0m\u001b[1;33m)\u001b[0m\u001b[1;33m]\u001b[0m\u001b[1;33m\u001b[0m\u001b[1;33m\u001b[0m\u001b[0m\n\u001b[0;32m    602\u001b[0m     \u001b[1;32melse\u001b[0m\u001b[1;33m:\u001b[0m\u001b[1;33m\u001b[0m\u001b[1;33m\u001b[0m\u001b[0m\n",
      "\u001b[1;31mKeyboardInterrupt\u001b[0m: "
     ]
    }
   ],
   "source": [
    "for i in range(len(song_meta)):\n",
    "    q=song_meta['song_gn_gnr_basket'][i].replace('\\'','').replace('[','').replace(']','').replace(',','').split()\n",
    "    #print(q)\n",
    "    for j in q:\n",
    "        #print(j)\n",
    "        song_meta['song_gn_gnr_basket'][i] = j\n",
    "# 되긴 되는데 너무 하루종일 걸림.. -> 코드 수정후 다시 커밋하기!"
   ]
  },
  {
   "cell_type": "code",
   "execution_count": 269,
   "metadata": {},
   "outputs": [
    {
     "data": {
      "text/html": [
       "<div>\n",
       "<style scoped>\n",
       "    .dataframe tbody tr th:only-of-type {\n",
       "        vertical-align: middle;\n",
       "    }\n",
       "\n",
       "    .dataframe tbody tr th {\n",
       "        vertical-align: top;\n",
       "    }\n",
       "\n",
       "    .dataframe thead th {\n",
       "        text-align: right;\n",
       "    }\n",
       "</style>\n",
       "<table border=\"1\" class=\"dataframe\">\n",
       "  <thead>\n",
       "    <tr style=\"text-align: right;\">\n",
       "      <th></th>\n",
       "      <th>album_name</th>\n",
       "      <th>song_name</th>\n",
       "      <th>song_gn_gnr_basket</th>\n",
       "      <th>artist_name_basket</th>\n",
       "      <th>id</th>\n",
       "    </tr>\n",
       "  </thead>\n",
       "  <tbody>\n",
       "    <tr>\n",
       "      <th>0</th>\n",
       "      <td>불후의 명곡 - 7080 추억의 얄개시대 팝송베스트</td>\n",
       "      <td>Feelings</td>\n",
       "      <td>POP</td>\n",
       "      <td>['Various Artists']</td>\n",
       "      <td>0</td>\n",
       "    </tr>\n",
       "    <tr>\n",
       "      <th>1</th>\n",
       "      <td>Bach : Partitas Nos. 2, 3 &amp; 4</td>\n",
       "      <td>Bach : Partita No. 4 In D Major, BWV 828 - II....</td>\n",
       "      <td>클래식</td>\n",
       "      <td>['Murray Perahia']</td>\n",
       "      <td>1</td>\n",
       "    </tr>\n",
       "    <tr>\n",
       "      <th>2</th>\n",
       "      <td>Hit</td>\n",
       "      <td>Solsbury Hill (Remastered 2002)</td>\n",
       "      <td>POP</td>\n",
       "      <td>['Peter Gabriel']</td>\n",
       "      <td>2</td>\n",
       "    </tr>\n",
       "    <tr>\n",
       "      <th>3</th>\n",
       "      <td>Feeling Right (Everything Is Nice) (Feat. Popc...</td>\n",
       "      <td>Feeling Right (Everything Is Nice) (Feat. Popc...</td>\n",
       "      <td>일렉트로니카</td>\n",
       "      <td>['Matoma']</td>\n",
       "      <td>3</td>\n",
       "    </tr>\n",
       "    <tr>\n",
       "      <th>4</th>\n",
       "      <td>그남자 그여자</td>\n",
       "      <td>그남자 그여자</td>\n",
       "      <td>뉴에이지</td>\n",
       "      <td>['Jude Law']</td>\n",
       "      <td>4</td>\n",
       "    </tr>\n",
       "    <tr>\n",
       "      <th>...</th>\n",
       "      <td>...</td>\n",
       "      <td>...</td>\n",
       "      <td>...</td>\n",
       "      <td>...</td>\n",
       "      <td>...</td>\n",
       "    </tr>\n",
       "    <tr>\n",
       "      <th>95</th>\n",
       "      <td>Nothing Happens</td>\n",
       "      <td>Remember When</td>\n",
       "      <td>록/메탈</td>\n",
       "      <td>['Wallows']</td>\n",
       "      <td>95</td>\n",
       "    </tr>\n",
       "    <tr>\n",
       "      <th>96</th>\n",
       "      <td>PLAY</td>\n",
       "      <td>가르마</td>\n",
       "      <td>포크/블루스</td>\n",
       "      <td>['AKMU (악동뮤지션)']</td>\n",
       "      <td>96</td>\n",
       "    </tr>\n",
       "    <tr>\n",
       "      <th>97</th>\n",
       "      <td>편안한 수면 건강을 위한 피아노</td>\n",
       "      <td>따뜻한 바람 부는 계절</td>\n",
       "      <td>뉴에이지</td>\n",
       "      <td>['한지아']</td>\n",
       "      <td>97</td>\n",
       "    </tr>\n",
       "    <tr>\n",
       "      <th>98</th>\n",
       "      <td>Efecto Domino</td>\n",
       "      <td>Querer</td>\n",
       "      <td>POP</td>\n",
       "      <td>['Chetes']</td>\n",
       "      <td>98</td>\n",
       "    </tr>\n",
       "    <tr>\n",
       "      <th>99</th>\n",
       "      <td>나의 사랑 나의 노래</td>\n",
       "      <td>장일남 : 비목</td>\n",
       "      <td>클래식</td>\n",
       "      <td>['박인수']</td>\n",
       "      <td>99</td>\n",
       "    </tr>\n",
       "  </tbody>\n",
       "</table>\n",
       "<p>100 rows × 5 columns</p>\n",
       "</div>"
      ],
      "text/plain": [
       "                                           album_name  \\\n",
       "0                        불후의 명곡 - 7080 추억의 얄개시대 팝송베스트   \n",
       "1                       Bach : Partitas Nos. 2, 3 & 4   \n",
       "2                                                 Hit   \n",
       "3   Feeling Right (Everything Is Nice) (Feat. Popc...   \n",
       "4                                             그남자 그여자   \n",
       "..                                                ...   \n",
       "95                                    Nothing Happens   \n",
       "96                                               PLAY   \n",
       "97                                  편안한 수면 건강을 위한 피아노   \n",
       "98                                      Efecto Domino   \n",
       "99                                        나의 사랑 나의 노래   \n",
       "\n",
       "                                            song_name song_gn_gnr_basket  \\\n",
       "0                                            Feelings                POP   \n",
       "1   Bach : Partita No. 4 In D Major, BWV 828 - II....                클래식   \n",
       "2                     Solsbury Hill (Remastered 2002)                POP   \n",
       "3   Feeling Right (Everything Is Nice) (Feat. Popc...             일렉트로니카   \n",
       "4                                             그남자 그여자               뉴에이지   \n",
       "..                                                ...                ...   \n",
       "95                                      Remember When               록/메탈   \n",
       "96                                                가르마             포크/블루스   \n",
       "97                                       따뜻한 바람 부는 계절               뉴에이지   \n",
       "98                                             Querer                POP   \n",
       "99                                           장일남 : 비목                클래식   \n",
       "\n",
       "     artist_name_basket  id  \n",
       "0   ['Various Artists']   0  \n",
       "1    ['Murray Perahia']   1  \n",
       "2     ['Peter Gabriel']   2  \n",
       "3            ['Matoma']   3  \n",
       "4          ['Jude Law']   4  \n",
       "..                  ...  ..  \n",
       "95          ['Wallows']  95  \n",
       "96     ['AKMU (악동뮤지션)']  96  \n",
       "97              ['한지아']  97  \n",
       "98           ['Chetes']  98  \n",
       "99              ['박인수']  99  \n",
       "\n",
       "[100 rows x 5 columns]"
      ]
     },
     "execution_count": 269,
     "metadata": {},
     "output_type": "execute_result"
    }
   ],
   "source": [
    "song_meta.head(100)"
   ]
  }
 ],
 "metadata": {
  "kernelspec": {
   "display_name": "Python 3.9.7 ('base')",
   "language": "python",
   "name": "python3"
  },
  "language_info": {
   "codemirror_mode": {
    "name": "ipython",
    "version": 3
   },
   "file_extension": ".py",
   "mimetype": "text/x-python",
   "name": "python",
   "nbconvert_exporter": "python",
   "pygments_lexer": "ipython3",
   "version": "3.9.7"
  },
  "orig_nbformat": 4,
  "vscode": {
   "interpreter": {
    "hash": "ad2bdc8ecc057115af97d19610ffacc2b4e99fae6737bb82f5d7fb13d2f2c186"
   }
  }
 },
 "nbformat": 4,
 "nbformat_minor": 2
}
