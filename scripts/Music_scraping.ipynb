{
 "cells": [
  {
   "cell_type": "code",
   "execution_count": 1,
   "metadata": {},
   "outputs": [],
   "source": [
    "from urllib.request import urlopen\n",
    "from bs4 import BeautifulSoup\n",
    "import selenium\n",
    "from selenium import webdriver\n",
    "from selenium.webdriver.common.by import By\n",
    "from selenium.webdriver.support.ui import WebDriverWait as wait\n",
    "from selenium.webdriver.support import expected_conditions as EC\n",
    "import time\n",
    "import pandas as pd\n"
   ]
  },
  {
   "cell_type": "code",
   "execution_count": 2,
   "metadata": {},
   "outputs": [],
   "source": [
    "# 앨범 곡 정보 df - 곡명, 수록곡 길이\n",
    "music = pd.DataFrame({'곡ID' : [],\n",
    "                      '곡명' : [],\n",
    "                      '아티스트' : [],\n",
    "                      '장르' : [],\n",
    "                      '가사' : []})"
   ]
  },
  {
   "cell_type": "code",
   "execution_count": 3,
   "metadata": {},
   "outputs": [],
   "source": [
    "# 앨범 차트 크롤링\n",
    "url = \"https://music.bugs.co.kr/genre/home\"\n",
    "html = urlopen(url)\n",
    "bsObject = BeautifulSoup(html, \"html.parser\")\n",
    "\n",
    "# 드라이버\n",
    "options = webdriver.ChromeOptions()\n",
    "options.add_experimental_option(\"excludeSwitches\", [\"enable-logging\"])\n",
    "driver = webdriver.Chrome(options=options, executable_path='chromedriver')\n",
    "\n",
    "driver.get(url)\n"
   ]
  },
  {
   "cell_type": "code",
   "execution_count": null,
   "metadata": {},
   "outputs": [
    {
     "name": "stdout",
     "output_type": "stream",
     "text": [
      "//*[@id=\"container\"]/section/div/ul/li[1]/ul/li[1]/a\n",
      "100\n",
      "//*[@id=\"container\"]/section/div/ul/li[1]/ul/li[2]/a\n",
      "100\n"
     ]
    }
   ],
   "source": [
    "genres_xpath = {'발라드':'//*[@id=\"container\"]/section/div/ul/li[1]/ul/li[1]/a',\n",
    "                '댄스/팝':'//*[@id=\"container\"]/section/div/ul/li[1]/ul/li[2]/a',\n",
    "                '랩/힙합':'//*[@id=\"container\"]/section/div/ul/li[1]/ul/li[5]/a'\n",
    "               }\n",
    "\n",
    "\n",
    "    \n",
    "\n",
    "\n",
    "# 차트 페이지로 in\n",
    "for i in genres_xpath:\n",
    "    search = driver.find_element(By.XPATH, genres_xpath[i])\n",
    "    time.sleep(1)\n",
    "    try:\n",
    "        search.click()\n",
    "    except Exception:\n",
    "        continue\n",
    "    time.sleep(1)\n",
    "\n",
    "    # 차트 내 곡 수 \n",
    "    songs_num = len(driver.find_elements(By.XPATH, '//*[@id=\"CHARTday\"]/table/tbody/tr/td[4]/a'))\n",
    "    # 곡 상세페이지로 in\n",
    "    for ID in range(songs_num):\n",
    "        album = driver.find_elements(By.XPATH, '//*[@id=\"CHARTday\"]/table/tbody/tr/td[4]/a')[ID]\n",
    "        time.sleep(1)\n",
    "        try:\n",
    "            album.click()\n",
    "        except Exception:\n",
    "            continue\n",
    "        # 곡 정보 가져오기\n",
    "        title = driver.find_element(By.XPATH, '//div[@class=\"innerContainer\"]/h1').text\n",
    "        isin = False\n",
    "        for i in range(len(driver.find_elements(By.XPATH, '//*[@id=\"container\"]/section[1]/div/div[1]/table/tbody/tr'))):\n",
    "            if driver.find_elements(By.XPATH, '//*[@id=\"container\"]/section[1]/div/div[1]/table/tbody/tr/th')[i].text == '아티스트':\n",
    "                artist = driver.find_element(By.XPATH, '//*[@id=\"container\"]/section[1]/div/div[1]/table/tbody/tr[{}]/td/a'.format(i+1)).text\n",
    "                isin = True\n",
    "        if not isin:\n",
    "            artist = None\n",
    "        genre = i\n",
    "        try:\n",
    "            track_lyrics = driver.find_element(By.XPATH, '//div[@class=\"lyricsContainer\"]/xmp').text\n",
    "        except Exception:\n",
    "            track_lyrics = None\n",
    "        # 데이터프레임으로 저장\n",
    "        music.loc[ID] = [ID, title, artist, genre, track_lyrics]\n",
    "        driver.back()\n",
    "        time.sleep(1)\n",
    "    driver.back()\n",
    "    time.sleep(1)\n",
    "\n",
    "        \n",
    "        \n",
    "\n",
    "        \n",
    "    \n",
    "    \n",
    "    \n",
    "\n",
    "# csv 파일로 저장\n",
    "music = music.astype({'곡ID':'int', '곡명':'string', '아티스트':'string', '장르':'string', '가사':'string'})\n",
    "music.to_csv('Music.csv', index=False)\n",
    "\n",
    "\n",
    "\n",
    "\n",
    "print(\"파일 저장이 완료되었습니다.\")"
   ]
  },
  {
   "cell_type": "code",
   "execution_count": null,
   "metadata": {},
   "outputs": [],
   "source": []
  },
  {
   "cell_type": "code",
   "execution_count": null,
   "metadata": {},
   "outputs": [],
   "source": []
  }
 ],
 "metadata": {
  "kernelspec": {
   "display_name": "Python 3",
   "language": "python",
   "name": "python3"
  },
  "language_info": {
   "codemirror_mode": {
    "name": "ipython",
    "version": 3
   },
   "file_extension": ".py",
   "mimetype": "text/x-python",
   "name": "python",
   "nbconvert_exporter": "python",
   "pygments_lexer": "ipython3",
   "version": "3.7.6"
  }
 },
 "nbformat": 4,
 "nbformat_minor": 4
}
